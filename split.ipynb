{
 "cells": [
  {
   "cell_type": "code",
   "execution_count": 1,
   "metadata": {},
   "outputs": [
    {
     "name": "stderr",
     "output_type": "stream",
     "text": [
      "<>:6: SyntaxWarning: invalid escape sequence '\\D'\n",
      "<>:7: SyntaxWarning: invalid escape sequence '\\d'\n",
      "<>:6: SyntaxWarning: invalid escape sequence '\\D'\n",
      "<>:7: SyntaxWarning: invalid escape sequence '\\d'\n",
      "C:\\Users\\User\\AppData\\Local\\Temp\\ipykernel_5692\\363201377.py:6: SyntaxWarning: invalid escape sequence '\\D'\n",
      "  dataset_dir = \"dataset\\DATA\"\n",
      "C:\\Users\\User\\AppData\\Local\\Temp\\ipykernel_5692\\363201377.py:7: SyntaxWarning: invalid escape sequence '\\d'\n",
      "  output_dir = \"dataset\\datasetsplitted\"  # Define where the split folders will go\n"
     ]
    },
    {
     "name": "stdout",
     "output_type": "stream",
     "text": [
      "Dataset split completed!\n"
     ]
    }
   ],
   "source": [
    "import os\n",
    "import shutil\n",
    "from sklearn.model_selection import train_test_split\n",
    "\n",
    "# Path to the dataset\n",
    "dataset_dir = \"dataset\\DATA\"\n",
    "output_dir = \"dataset\\datasetsplitted\"  # Define where the split folders will go\n",
    "\n",
    "# Create output directories\n",
    "for split in ['train', 'val', 'test']:\n",
    "    os.makedirs(os.path.join(output_dir, split), exist_ok=True)\n",
    "\n",
    "# Iterate through each car folder\n",
    "for car_model in os.listdir(dataset_dir):\n",
    "    car_model_path = os.path.join(dataset_dir, car_model)\n",
    "    \n",
    "    if os.path.isdir(car_model_path):  # Ensure it's a directory\n",
    "        images = os.listdir(car_model_path)\n",
    "        \n",
    "        # Split into train, val, and test\n",
    "        train_imgs, temp_imgs = train_test_split(images, test_size=0.2, random_state=42)\n",
    "        val_imgs, test_imgs = train_test_split(temp_imgs, test_size=0.5, random_state=42)\n",
    "        \n",
    "        # Create subfolders for the car model in train/val/test\n",
    "        for split, split_imgs in zip(['train', 'val', 'test'], [train_imgs, val_imgs, test_imgs]):\n",
    "            split_dir = os.path.join(output_dir, split, car_model)\n",
    "            os.makedirs(split_dir, exist_ok=True)\n",
    "            \n",
    "            # Copy images\n",
    "            for img in split_imgs:\n",
    "                shutil.copy(os.path.join(car_model_path, img), os.path.join(split_dir, img))\n",
    "\n",
    "print(\"Dataset split completed!\")\n"
   ]
  }
 ],
 "metadata": {
  "kernelspec": {
   "display_name": "Python 3",
   "language": "python",
   "name": "python3"
  },
  "language_info": {
   "codemirror_mode": {
    "name": "ipython",
    "version": 3
   },
   "file_extension": ".py",
   "mimetype": "text/x-python",
   "name": "python",
   "nbconvert_exporter": "python",
   "pygments_lexer": "ipython3",
   "version": "3.12.7"
  }
 },
 "nbformat": 4,
 "nbformat_minor": 2
}
